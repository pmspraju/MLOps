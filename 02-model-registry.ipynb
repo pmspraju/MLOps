{
 "cells": [
  {
   "cell_type": "code",
   "execution_count": 25,
   "id": "b2bd82d7",
   "metadata": {},
   "outputs": [
    {
     "name": "stdout",
     "output_type": "stream",
     "text": [
      "Python 3.9.15\n"
     ]
    }
   ],
   "source": [
    "!python -V"
   ]
  },
  {
   "cell_type": "code",
   "execution_count": 31,
   "id": "41062d8a",
   "metadata": {},
   "outputs": [],
   "source": [
    "import pandas as pd\n",
    "import pickle\n",
    "import seaborn as sns\n",
    "import matplotlib.pyplot as plt\n",
    "import mlflow\n",
    "\n",
    "from sklearn.feature_extraction import DictVectorizer\n",
    "from sklearn.linear_model import LinearRegression\n",
    "from sklearn.linear_model import Lasso\n",
    "from sklearn.linear_model import Ridge\n",
    "\n",
    "from sklearn.metrics import mean_squared_error"
   ]
  },
  {
   "cell_type": "code",
   "execution_count": 32,
   "id": "4feb31c5",
   "metadata": {},
   "outputs": [],
   "source": [
    "def read_dataframe(filename):\n",
    "    df = pd.read_parquet(filename)\n",
    "\n",
    "    df.lpep_dropoff_datetime = pd.to_datetime(df.lpep_dropoff_datetime)\n",
    "    df.lpep_pickup_datetime = pd.to_datetime(df.lpep_pickup_datetime)\n",
    "\n",
    "    df['duration'] = df.lpep_dropoff_datetime - df.lpep_pickup_datetime\n",
    "    df.duration = df.duration.apply(lambda td: td.total_seconds() / 60)\n",
    "\n",
    "    df = df[(df.duration >= 1) & (df.duration <= 60)]\n",
    "\n",
    "    categorical = ['PULocationID', 'DOLocationID']\n",
    "    df[categorical] = df[categorical].astype(str)\n",
    "    \n",
    "    return df\n",
    "\n",
    "def preprocess(df, dv):\n",
    "    df['PU_DO'] = df['PULocationID'] + '_' + df['DOLocationID']\n",
    "    categorical = ['PU_DO'] #'PULocationID', 'DOLocationID']\n",
    "    numerical = ['trip_distance']\n",
    "    test_dicts = df[categorical + numerical].to_dict(orient='records')\n",
    "    return dv.transform(test_dicts)\n",
    "\n",
    "def test_model(name, stage, X_test, y_test):\n",
    "    model = mlflow.pyfunc.load_model(f\"models:/{name}/{stage}\")\n",
    "    y_pred = model.predict(X_test)\n",
    "    return {\"rmse\": mean_squared_error(y_test, y_pred, squared=False)}\n"
   ]
  },
  {
   "cell_type": "code",
   "execution_count": 30,
   "id": "8029eba0",
   "metadata": {},
   "outputs": [],
   "source": [
    "df_test = read_dataframe('/home/pmspraju/tracking-server/data/green_tripdata_2021-03.parquet')"
   ]
  },
  {
   "cell_type": "code",
   "execution_count": 33,
   "id": "f6f2f0eb",
   "metadata": {},
   "outputs": [
    {
     "data": {
      "text/plain": [
       "80372"
      ]
     },
     "execution_count": 33,
     "metadata": {},
     "output_type": "execute_result"
    }
   ],
   "source": [
    "len(df_test)"
   ]
  },
  {
   "cell_type": "code",
   "execution_count": 34,
   "id": "1e9fb68b",
   "metadata": {},
   "outputs": [],
   "source": [
    "target = 'duration'\n",
    "y_test = df_test[target].values"
   ]
  },
  {
   "cell_type": "code",
   "execution_count": 14,
   "id": "23334d4c",
   "metadata": {},
   "outputs": [],
   "source": [
    "from mlflow.tracking import MlflowClient\n",
    "\n",
    "MLFLOW_TRACKING_URI =\"sqlite:////home/pmspraju/tracking-server/mlflow.db\" \n",
    "\n",
    "client = MlflowClient(tracking_uri=MLFLOW_TRACKING_URI)"
   ]
  },
  {
   "cell_type": "code",
   "execution_count": 8,
   "id": "37cbf5f8",
   "metadata": {},
   "outputs": [
    {
     "name": "stdout",
     "output_type": "stream",
     "text": [
      "nyc-taxi-experiment-1\n"
     ]
    }
   ],
   "source": [
    "# List experiments\n",
    "experiments = client.search_experiments()\n",
    "for ex in experiments:\n",
    "    print(ex._name)"
   ]
  },
  {
   "cell_type": "code",
   "execution_count": 13,
   "id": "185aee3b",
   "metadata": {},
   "outputs": [
    {
     "name": "stdout",
     "output_type": "stream",
     "text": [
      "runid: bbd69a41e3df45d3b56eea857ecd0721, rmse: 6.4416226198779905.4f, mlflow_name: sassy-asp-693\n",
      "runid: 5a758a6015de423c9b55f8b820654939, rmse: 6.458027230161294.4f, mlflow_name: sassy-moose-331\n",
      "runid: 9d8bdf139bce47f88a2a61029470e909, rmse: 6.4598527549080185.4f, mlflow_name: silent-sponge-146\n"
     ]
    }
   ],
   "source": [
    "# search runs\n",
    "from mlflow.entities import ViewType\n",
    "runs = client.search_runs(\n",
    "    experiment_ids='2',\n",
    "    filter_string=\"metrics.rmse < 6.5\",\n",
    "    run_view_type=ViewType.ACTIVE_ONLY,\n",
    "    max_results=5,\n",
    "    order_by=[\"metrics.rmse ASC\"]\n",
    ")\n",
    "\n",
    "for run in runs:\n",
    "    print(f\"runid: {run.info.run_id}, rmse: {run.data.metrics['rmse']}.4f, mlflow_name: {run.info.run_name}\")"
   ]
  },
  {
   "cell_type": "code",
   "execution_count": 18,
   "id": "4dff54d3",
   "metadata": {},
   "outputs": [
    {
     "name": "stdout",
     "output_type": "stream",
     "text": [
      "nyc-taxi-regressor\n"
     ]
    }
   ],
   "source": [
    "# List registered models\n",
    "reg_models = client.search_registered_models()\n",
    "for m in reg_models:\n",
    "    print(m.name)"
   ]
  },
  {
   "cell_type": "code",
   "execution_count": 20,
   "id": "814edd2b",
   "metadata": {},
   "outputs": [
    {
     "name": "stderr",
     "output_type": "stream",
     "text": [
      "Registered model 'nyc-taxi-regressor' already exists. Creating a new version of this model...\n",
      "2022/12/24 08:22:06 INFO mlflow.tracking._model_registry.client: Waiting up to 300 seconds for model version to finish creation.                     Model name: nyc-taxi-regressor, version 3\n",
      "Created version '3' of model 'nyc-taxi-regressor'.\n"
     ]
    },
    {
     "data": {
      "text/plain": [
       "<ModelVersion: creation_timestamp=1671891726137, current_stage='None', description=None, last_updated_timestamp=1671891726137, name='nyc-taxi-regressor', run_id='bbd69a41e3df45d3b56eea857ecd0721', run_link=None, source='//home/pmspraju/tracking-server/mlruns/bbd69a41e3df45d3b56eea857ecd0721/artifacts/model', status='READY', status_message=None, tags={}, user_id=None, version=3>"
      ]
     },
     "execution_count": 20,
     "metadata": {},
     "output_type": "execute_result"
    }
   ],
   "source": [
    "# Register a version to an existing model\n",
    "mlflow.set_tracking_uri(MLFLOW_TRACKING_URI)\n",
    "run_id = \"bbd69a41e3df45d3b56eea857ecd0721\"\n",
    "model_uri = f\"runs:/{run_id}/model\"\n",
    "mlflow.register_model(model_uri=model_uri, name=\"nyc-taxi-regressor\")"
   ]
  },
  {
   "cell_type": "code",
   "execution_count": 21,
   "id": "725ffb00",
   "metadata": {},
   "outputs": [
    {
     "name": "stdout",
     "output_type": "stream",
     "text": [
      "version:2,current stage:Staging\n",
      "version:3,current stage:None\n"
     ]
    }
   ],
   "source": [
    "# list of the model versions\n",
    "model_name = \"nyc-taxi-regressor\"\n",
    "versions = client.get_latest_versions(name=model_name)\n",
    "for version in versions:\n",
    "    print(f\"version:{version.version},current stage:{version.current_stage}\")"
   ]
  },
  {
   "cell_type": "code",
   "execution_count": 22,
   "id": "052517a3",
   "metadata": {},
   "outputs": [
    {
     "data": {
      "text/plain": [
       "<ModelVersion: creation_timestamp=1671891726137, current_stage='Staging', description=None, last_updated_timestamp=1671892216766, name='nyc-taxi-regressor', run_id='bbd69a41e3df45d3b56eea857ecd0721', run_link=None, source='//home/pmspraju/tracking-server/mlruns/bbd69a41e3df45d3b56eea857ecd0721/artifacts/model', status='READY', status_message=None, tags={}, user_id=None, version=3>"
      ]
     },
     "execution_count": 22,
     "metadata": {},
     "output_type": "execute_result"
    }
   ],
   "source": [
    "# Transition a version \n",
    "client.transition_model_version_stage(\n",
    "    name=model_name,\n",
    "    version=3,\n",
    "    stage=\"Staging\",\n",
    "    archive_existing_versions=False\n",
    "\n",
    ")"
   ]
  },
  {
   "cell_type": "code",
   "execution_count": 24,
   "id": "15712df4",
   "metadata": {},
   "outputs": [
    {
     "data": {
      "text/plain": [
       "<ModelVersion: creation_timestamp=1671891726137, current_stage='Staging', description='This model version was updated on 2022-12-24', last_updated_timestamp=1671892546969, name='nyc-taxi-regressor', run_id='bbd69a41e3df45d3b56eea857ecd0721', run_link=None, source='//home/pmspraju/tracking-server/mlruns/bbd69a41e3df45d3b56eea857ecd0721/artifacts/model', status='READY', status_message=None, tags={}, user_id=None, version=3>"
      ]
     },
     "execution_count": 24,
     "metadata": {},
     "output_type": "execute_result"
    }
   ],
   "source": [
    "# Update a version attribute like description\n",
    "from datetime import datetime\n",
    "date= datetime.today().date()\n",
    "client.update_model_version(\n",
    "    name=model_name,\n",
    "    version=3,\n",
    "    description=f\"This model version was updated on {date}\"\n",
    ")"
   ]
  },
  {
   "cell_type": "code",
   "execution_count": 35,
   "id": "d41a4a62",
   "metadata": {},
   "outputs": [
    {
     "name": "stderr",
     "output_type": "stream",
     "text": [
      "/tmp/ipykernel_987/2655490884.py:3: FutureWarning: ``mlflow.tracking.client.MlflowClient.download_artifacts`` is deprecated since 2.0. This method will be removed in a future release. Use ``mlflow.artifacts.download_artifacts`` instead.\n",
      "  client.download_artifacts(\n"
     ]
    },
    {
     "data": {
      "text/plain": [
       "'/home/pmspraju/tracking-server/test-models/preprocessor'"
      ]
     },
     "execution_count": 35,
     "metadata": {},
     "output_type": "execute_result"
    }
   ],
   "source": [
    "run_id = \"9d8bdf139bce47f88a2a61029470e909\"\n",
    "model_uri = f\"runs:/{run_id}/model\"\n",
    "client.download_artifacts(\n",
    "    run_id=run_id,\n",
    "    path='preprocessor',\n",
    "    dst_path='/home/pmspraju/tracking-server/test-models'\n",
    ")"
   ]
  },
  {
   "cell_type": "code",
   "execution_count": 36,
   "id": "c51071fb",
   "metadata": {},
   "outputs": [],
   "source": [
    "with open(\"/home/pmspraju/tracking-server/test-models/preprocessor/preprocessor.b\", \"rb\") as f_in:\n",
    "    dv = pickle.load(f_in)"
   ]
  },
  {
   "cell_type": "code",
   "execution_count": 37,
   "id": "09cf89af",
   "metadata": {},
   "outputs": [],
   "source": [
    "X_test = preprocess(df_test, dv)"
   ]
  },
  {
   "cell_type": "code",
   "execution_count": 40,
   "id": "0ffd52ba",
   "metadata": {},
   "outputs": [
    {
     "name": "stdout",
     "output_type": "stream",
     "text": [
      "[09:20:20] WARNING: ../src/objective/regression_obj.cu:213: reg:linear is now deprecated in favor of reg:squarederror.\n",
      "CPU times: user 3.35 s, sys: 0 ns, total: 3.35 s\n",
      "Wall time: 1.62 s\n"
     ]
    },
    {
     "data": {
      "text/plain": [
       "{'rmse': 6.39181859348981}"
      ]
     },
     "execution_count": 40,
     "metadata": {},
     "output_type": "execute_result"
    }
   ],
   "source": [
    "%time test_model(name=model_name, stage=\"Production\", X_test=X_test, y_test=y_test)"
   ]
  },
  {
   "cell_type": "code",
   "execution_count": 42,
   "id": "2c9ef41e",
   "metadata": {},
   "outputs": [
    {
     "name": "stdout",
     "output_type": "stream",
     "text": [
      "CPU times: user 203 ms, sys: 0 ns, total: 203 ms\n",
      "Wall time: 199 ms\n"
     ]
    },
    {
     "data": {
      "text/plain": [
       "{'rmse': 6.659623830022514}"
      ]
     },
     "execution_count": 42,
     "metadata": {},
     "output_type": "execute_result"
    }
   ],
   "source": [
    "%time test_model(name=model_name, stage=\"Staging\", X_test=X_test, y_test=y_test)"
   ]
  }
 ],
 "metadata": {
  "kernelspec": {
   "display_name": "exp-tracking-env",
   "language": "python",
   "name": "python3"
  },
  "language_info": {
   "codemirror_mode": {
    "name": "ipython",
    "version": 3
   },
   "file_extension": ".py",
   "mimetype": "text/x-python",
   "name": "python",
   "nbconvert_exporter": "python",
   "pygments_lexer": "ipython3",
   "version": "3.9.15"
  },
  "vscode": {
   "interpreter": {
    "hash": "faa07d60851cd7993a58d1cb4b1bb04ec8f81d41e7dec9f393c1daf63dbafa5d"
   }
  }
 },
 "nbformat": 4,
 "nbformat_minor": 5
}
